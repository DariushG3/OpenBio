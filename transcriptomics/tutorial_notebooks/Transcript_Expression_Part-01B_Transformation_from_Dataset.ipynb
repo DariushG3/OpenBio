{
  "metadata": {
    "language_info": {
      "name": "python",
      "version": "3.6.5",
      "mimetype": "text/x-python",
      "codemirror_mode": {
        "name": "ipython",
        "version": 3
      },
      "pygments_lexer": "ipython3",
      "nbconvert_exporter": "python",
      "file_extension": ".py"
    },
    "kernelspec": {
      "name": "python3",
      "display_name": "Python 3",
      "language": "python"
    }
  },
  "nbformat_minor": 5,
  "nbformat": 4,
  "cells": [
    {
      "cell_type": "markdown",
      "source": "# Notebook 1B: Expression Data Transformation from a Dataset\n***",
      "metadata": {}
    },
    {
      "cell_type": "markdown",
      "source": "***As-Is Software Disclaimer***\n\n*This content in this repository is delivered “As-Is”. Notwithstanding anything to the contrary, DNAnexus will have no warranty, support, liability or other obligations with respect to Materials provided hereunder.*\n\n*[MIT License](https://github.com/dnanexus/OpenBio/blob/master/LICENSE.md) applies to this notebook.*\n***",
      "metadata": {}
    },
    {
      "cell_type": "markdown",
      "source": "**Launch spec:**\n- App name: JupyterLab with Spark Cluster\n- Kernel: Python 3\n- Instance type: mem1_ssd1_v2_x16\n- Spark cluster configuration: single node\n- runtime: ~ 10 min\n\n**Package dependencies:** \n- pprint [License](https://docs.python.org/3/license.html?#psf-license)\n- pandas [License](https://github.com/pandas-dev/pandas/blob/main/LICENSE)\n- pyspark [License](http://www.apache.org/licenses/LICENSE-2.0)\n\n**Data description:** The record ID of a Dataset (or Cohort) that has an instance of a MolecularExpressionAssay. This dataset used in this notebook has an instance of a MolecularExpressionAssay and pheno data. It was created by\n1. Ingesting molecular expression data using the `Molecular Expression Assay Loader` app  \n2. Using the `Assay Dataset Merger` app to add the MolecularExpressionAssay to a pheno dataset\n\n**This notebook shows how to:** This notebook shows how to extract molecular expression data from a Dataset to be used for downstream analyses.\n\n1. Retrieve Molecular Expression Data from a Dataset\n2. Create and Export Count Matrix from Expression Data\n3. Export Phenotype Summary from a Dataset\n***",
      "metadata": {}
    },
    {
      "cell_type": "markdown",
      "source": "## Preparing your environment \n`import` dependencies and initiate spark context and connection",
      "metadata": {}
    },
    {
      "cell_type": "code",
      "source": "import pprint\nimport pandas as pd\nimport pyspark\nimport dxdata",
      "metadata": {
        "trusted": true
      },
      "execution_count": 5,
      "outputs": []
    },
    {
      "cell_type": "code",
      "source": "sc = pyspark.SparkContext()\nspark = pyspark.sql.SparkSession(sc)",
      "metadata": {
        "trusted": true
      },
      "execution_count": 6,
      "outputs": []
    },
    {
      "cell_type": "markdown",
      "source": "## 1. Retrieve Molecular Expression Data from a Dataset",
      "metadata": {}
    },
    {
      "cell_type": "markdown",
      "source": "#### Load Dataset",
      "metadata": {}
    },
    {
      "cell_type": "code",
      "source": "molecular_expression_dataset = dxdata.load_dataset(id=\"record-G7b0pKQ0fPx7Pkf960PJ2x60\")",
      "metadata": {
        "trusted": true
      },
      "execution_count": 4,
      "outputs": []
    },
    {
      "cell_type": "markdown",
      "source": "#### View attributes of the Dataset",
      "metadata": {}
    },
    {
      "cell_type": "code",
      "source": "pprint.pprint(molecular_expression_dataset.__dict__)",
      "metadata": {
        "trusted": true
      },
      "execution_count": 1,
      "outputs": []
    },
    {
      "cell_type": "markdown",
      "source": "#### View the Entities of the desired Assay",
      "metadata": {}
    },
    {
      "cell_type": "code",
      "source": "molecular_expression_dataset.assays['matrix_test_011922'].entities",
      "metadata": {
        "trusted": true
      },
      "execution_count": 2,
      "outputs": []
    },
    {
      "cell_type": "markdown",
      "source": "#### Retrieve unique database name and table name of the Entities",
      "metadata": {}
    },
    {
      "cell_type": "code",
      "source": "def get_database_table_names(dataset, entity_name):\n    \"\"\"This helper function retrieves the unique database name and table name from an Entitiy in a Dataset.\n    \n    Args:\n            dataset (Dataset):\n                Dataset containing the Entity from which to retrieve the database and\n                table name of\n            entity_name (str):\n                Name of the Entity from which too retrieve the database and table name of.\n\n    Returns: The unique database name and table name of the specified Entity.\n    \"\"\"\n    if entity_name in dataset.entities_by_name:\n        db_name = dataset[entity_name].database_name\n        db_id = dataset[entity_name].database_id.lower().replace('-', '_')\n        db_uname = f\"{db_id}__{db_name}\"\n        tb_name = dataset[entity_name].fields[0].table_name\n    else:\n        for assay in dataset.assays:\n            for entity in dataset.assays[assay].entities:\n                if entity == entity_name:\n                    db_name = dataset.assays[assay].entities[entity].database_name\n                    db_id = dataset.assays[assay].entities[entity].database_id.lower().replace('-', '_')\n                    db_uname = f\"{db_id}__{db_name}\"\n                    tb_name = dataset.assays[assay].entities[entity].fields[0].table_name\n    \n    return f\"{db_uname}.{tb_name}\"",
      "metadata": {
        "trusted": true
      },
      "execution_count": 10,
      "outputs": []
    },
    {
      "cell_type": "code",
      "source": "expr_annotation_udb_tb_name = get_database_table_names(molecular_expression_dataset, 'expr_annotation')",
      "metadata": {
        "trusted": true
      },
      "execution_count": 5,
      "outputs": []
    },
    {
      "cell_type": "code",
      "source": "expression_udb_tb_name = get_database_table_names(molecular_expression_dataset, 'expression')",
      "metadata": {
        "trusted": true
      },
      "execution_count": 6,
      "outputs": []
    },
    {
      "cell_type": "markdown",
      "source": "#### Retrieve molecular expression data into a Spark DataFrame using SparkSQL",
      "metadata": {}
    },
    {
      "cell_type": "code",
      "source": "expr_annotation_table = spark.sql(f\"SELECT * FROM {expr_annotation_udb_tb_name}\")\nexpression_table = spark.sql(f\"SELECT * FROM {expression_udb_tb_name}\")",
      "metadata": {
        "trusted": true
      },
      "execution_count": 13,
      "outputs": []
    },
    {
      "cell_type": "markdown",
      "source": "## 2. Create and Export Count Matrix from Expression Data",
      "metadata": {}
    },
    {
      "cell_type": "markdown",
      "source": "#### Create a pandas dataframe of the expression table",
      "metadata": {}
    },
    {
      "cell_type": "code",
      "source": "expression_pdf = expression_table.toPandas()",
      "metadata": {
        "trusted": true
      },
      "execution_count": 7,
      "outputs": []
    },
    {
      "cell_type": "markdown",
      "source": "#### Transform the expression data from table to matrix",
      "metadata": {}
    },
    {
      "cell_type": "code",
      "source": "expression_matrix = pd.pivot_table(expression_pdf, values=\"value\", index=\"feature_id\", columns=\"sample_id\")",
      "metadata": {
        "trusted": true
      },
      "execution_count": 8,
      "outputs": []
    },
    {
      "cell_type": "markdown",
      "source": "#### Export matrix as CSV file",
      "metadata": {}
    },
    {
      "cell_type": "code",
      "source": "expression_matrix.to_csv(\"expression_matrix.csv\")",
      "metadata": {
        "trusted": true
      },
      "execution_count": 29,
      "outputs": []
    },
    {
      "cell_type": "code",
      "source": "!head expression_matrix.csv",
      "metadata": {
        "trusted": true
      },
      "execution_count": 9,
      "outputs": []
    },
    {
      "cell_type": "markdown",
      "source": "#### Optional preprocessing step: Filter out data where expression value = 0 before making a count matrix",
      "metadata": {}
    },
    {
      "cell_type": "code",
      "source": "no_zero_expression_pdf = expression_pdf[expression_pdf.value != 0]",
      "metadata": {
        "trusted": true
      },
      "execution_count": 16,
      "outputs": []
    },
    {
      "cell_type": "code",
      "source": "no_zero_expression_matrix = pd.pivot_table(no_zero_expression_pdf, values=\"value\", index=\"feature_id\", columns=\"sample_id\")",
      "metadata": {
        "trusted": true
      },
      "execution_count": 10,
      "outputs": []
    },
    {
      "cell_type": "markdown",
      "source": "## 3. Export Pheno Summary from Dataset",
      "metadata": {}
    },
    {
      "cell_type": "markdown",
      "source": "NOTE: The MolecularExpressionAssay was added to a Dataset containing a pheno summary entity using `Assay Dataset Merger`",
      "metadata": {}
    },
    {
      "cell_type": "markdown",
      "source": "#### View entities in the Dataset",
      "metadata": {}
    },
    {
      "cell_type": "code",
      "source": "molecular_expression_dataset.entities",
      "metadata": {
        "trusted": true
      },
      "execution_count": 11,
      "outputs": []
    },
    {
      "cell_type": "markdown",
      "source": "#### Get the database and table name of the pheno_summary entity",
      "metadata": {}
    },
    {
      "cell_type": "code",
      "source": "get_database_table_names(molecular_expression_dataset, 'pheno_summary')",
      "metadata": {
        "trusted": true
      },
      "execution_count": 12,
      "outputs": []
    },
    {
      "cell_type": "markdown",
      "source": "#### Retrieve pheno_summary data into a Spark DataFrame using SparkSQL",
      "metadata": {}
    },
    {
      "cell_type": "code",
      "source": "pheno_summary_table = spark.sql(f\"SELECT * FROM pheno_012022.pheno_summary\")",
      "metadata": {
        "trusted": true
      },
      "execution_count": 52,
      "outputs": []
    },
    {
      "cell_type": "markdown",
      "source": "#### Create a pandas dataframe of the pheno_summary table",
      "metadata": {}
    },
    {
      "cell_type": "code",
      "source": "pheno_summary_pdf = pheno_summary_table.toPandas()",
      "metadata": {
        "trusted": true
      },
      "execution_count": 14,
      "outputs": []
    },
    {
      "cell_type": "markdown",
      "source": "#### Export pheno_summary as a CSV file",
      "metadata": {}
    },
    {
      "cell_type": "code",
      "source": "pheno_summary_pdf.to_csv(\"pheno_summary.csv\", index=False)",
      "metadata": {
        "trusted": true
      },
      "execution_count": 45,
      "outputs": []
    },
    {
      "cell_type": "code",
      "source": "!head pheno_summary.csv",
      "metadata": {
        "trusted": true
      },
      "execution_count": 15,
      "outputs": []
    },
    {
      "cell_type": "markdown",
      "source": "## Next Steps",
      "metadata": {}
    },
    {
      "cell_type": "markdown",
      "source": "With the exported csv files, downstream analyses can be performed as shown in the following series of transcriptomics tutorial notebooks (starting at part 2): https://github.com/dnanexus/OpenBio/blob/master/transcriptomics/tutorial_notebooks/",
      "metadata": {}
    }
  ]
}
