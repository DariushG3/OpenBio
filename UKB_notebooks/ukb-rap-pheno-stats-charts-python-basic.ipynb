{
 "cells": [
  {
   "cell_type": "markdown",
   "metadata": {},
   "source": [
    "# Retrieving data using `dxdata` and plotting results\n",
    "\n",
    "***\n",
    "This notebook is delivered \"As-Is\". Notwithstanding anything to the contrary, DNAnexus will have no warranty, support, liability or other obligations with respect to Materials provided hereunder.\n",
    "\n",
    "\n",
    "\n",
    "[MIT License](https://github.com/dnanexus/OpenBio/blob/master/LICENSE.md) applies to this notebook.\n",
    "***\n",
    "\n",
    "## Introduction\n",
    "This notebook shows the application of basic functions from `dxdata` on a UKB RAP dispensed project to explore the dataset and plot phenotypic trait correlations."
   ]
  },
  {
   "cell_type": "markdown",
   "metadata": {},
   "source": [
    "## Jupyterlab app details (launch configuration)\n",
    "\n",
    "### Recommended configuration\n",
    "- runtime: < 10 min\n",
    "- cluster configuration: `Spark cluster`\n",
    "- number of nodes: 2\n",
    "- recommended instance: `mem1_ssd1_v2_x4`\n",
    "- cost: < £0.05\n",
    "\n",
    "\n",
    "### Performance comparison\n",
    "- **mem1_ssd1_v2_x4, Spark cluster, 2 nodes**:    \n",
    "    - runtime: < 10 min\n",
    "    - cost: < £0.05\n",
    "- mem1_ssd1_v2_x16, Spark cluster, 2 nodes:\n",
    "    - runtime: < 10 min\n",
    "    - cost: < £0.2"
   ]
  },
  {
   "cell_type": "markdown",
   "metadata": {},
   "source": [
    "### Import and initialize some packages"
   ]
  },
  {
   "cell_type": "code",
   "execution_count": null,
   "metadata": {},
   "outputs": [],
   "source": [
    "import databricks.koalas as ks\n",
    "import dxdata\n",
    "import dxpy\n",
    "import matplotlib.pyplot as plt\n",
    "import numpy as np\n",
    "import pandas as pd\n",
    "import seaborn as sns"
   ]
  },
  {
   "cell_type": "markdown",
   "metadata": {},
   "source": [
    "### Open UK Biobank dataset"
   ]
  },
  {
   "cell_type": "code",
   "execution_count": null,
   "metadata": {},
   "outputs": [],
   "source": [
    "dispensed_dataset = dxpy.find_one_data_object(\n",
    "    typename='Dataset', \n",
    "    name='app*.dataset', \n",
    "    folder='/', \n",
    "    name_mode='glob')\n",
    "dispensed_dataset_id = dispensed_dataset['id']\n",
    "dataset = dxdata.load_dataset(id=dispensed_dataset_id)"
   ]
  },
  {
   "cell_type": "markdown",
   "metadata": {},
   "source": [
    "## Phenotype data"
   ]
  },
  {
   "cell_type": "markdown",
   "metadata": {},
   "source": [
    "### Before we begin, a little reminder about terminology...\n",
    "\n",
    "\n",
    "<table style=\"float:left; text-align: center; border: 1px solid black\">   \n",
    "    <tr style=\"border-bottom: 1px solid black\"><td style=\"border-right: 1px solid black\">Field name/Column name</td><td style=\"border-right: 1px solid black\">Field title</td>\n",
    "    <tr><td style=\"border-right: 1px solid black\">eid</td><td style=\"border-right: 1px solid black\">Participant ID</td>\n",
    "    <tr><td style=\"border-right: 1px solid black\">p31</td><td style=\"border-right: 1px solid black\">Sex</td>\n",
    "    <tr><td style=\"border-right: 1px solid black\">p84_i0_a3</td><td style=\"border-right: 1px solid black\">Cancer year/age first occurred | Instance 0 | Array 3</td>\n",
    "</table>\n",
    "\n"
   ]
  },
  {
   "cell_type": "markdown",
   "metadata": {},
   "source": [
    "Select fields to extract into dataframe."
   ]
  },
  {
   "cell_type": "code",
   "execution_count": null,
   "metadata": {},
   "outputs": [],
   "source": [
    "pheno = dataset['participant']\n",
    "\n",
    "# Find by field name\n",
    "field_eid = pheno.find_field(name='eid')\n",
    "\n",
    "# Find by exact title\n",
    "field_sex = pheno.find_field(title='Sex')\n",
    "field_age = pheno.find_field(title='Age at recruitment')\n",
    "field_own_rent = pheno.find_field(title='Own or rent accommodation lived in | Instance 0')\n",
    "\n",
    "# Find by title pattern\n",
    "pattern = 'Length of time at current address \\| Instance [0-2]'\n",
    "fields_len = list(pheno.find_fields(title_regex=pattern))"
   ]
  },
  {
   "cell_type": "markdown",
   "metadata": {},
   "source": [
    "### Extract phenotype data for selected fields\n",
    "\n",
    "The `participant.retrieve_fields` function can be used to construct a Spark DataFrame of the given fields.\n",
    "\n",
    "By default, this retrieves data as encoded by UK Biobank. For example, field `p31` (participant's sex) will be returned as an integer column with values of 0 and 1. To receive decoded values, supply the `coding_values='replace'` argument.\n",
    "\n",
    "For more information, see [Tips for Retrieving Fields](https://dnanexus.gitbook.io/uk-biobank-rap/getting-started/working-with-ukb-data#tips-for-retrieving-fields) in the documentation."
   ]
  },
  {
   "cell_type": "code",
   "execution_count": null,
   "metadata": {},
   "outputs": [],
   "source": [
    "# Final list of fields\n",
    "field_list = [field_eid, field_sex, field_own_rent, field_age] + fields_len\n",
    "\n",
    "# Extract data\n",
    "pheno_data = pheno.retrieve_fields(fields=field_list, engine=dxdata.connect()).to_koalas()\n",
    "\n",
    "# See first five entries\n",
    "pheno_data.head()"
   ]
  },
  {
   "cell_type": "markdown",
   "metadata": {},
   "source": [
    "Let's list column name and title."
   ]
  },
  {
   "cell_type": "code",
   "execution_count": null,
   "metadata": {},
   "outputs": [],
   "source": [
    "pd.DataFrame(\n",
    "    {\n",
    "        'Name': [f.name for f in field_list],\n",
    "        'Title': [f.title for f in field_list]\n",
    "    }\n",
    ")"
   ]
  },
  {
   "cell_type": "markdown",
   "metadata": {},
   "source": [
    "### Summarize data"
   ]
  },
  {
   "cell_type": "code",
   "execution_count": null,
   "metadata": {},
   "outputs": [],
   "source": [
    "pheno_data.describe()"
   ]
  },
  {
   "cell_type": "markdown",
   "metadata": {},
   "source": [
    "### Get averages and group counts by sex"
   ]
  },
  {
   "cell_type": "code",
   "execution_count": null,
   "metadata": {},
   "outputs": [],
   "source": [
    "# Show average of numeric columns (age, own or rent accommodation lived in, length of time at current address) by sex\n",
    "pheno_data.groupby('p31').mean()"
   ]
  },
  {
   "cell_type": "code",
   "execution_count": null,
   "metadata": {},
   "outputs": [],
   "source": [
    "# Show counts of type of accommodation lived in grouped by sex\n",
    "pheno_data.groupby('p31')['p680_i0'].value_counts().unstack()"
   ]
  },
  {
   "cell_type": "markdown",
   "metadata": {},
   "source": [
    "### Visually display correlation"
   ]
  },
  {
   "cell_type": "code",
   "execution_count": null,
   "metadata": {},
   "outputs": [],
   "source": [
    "len_address_inst0 = pheno_data.p699_i0.to_numpy()\n",
    "len_address_inst1 = pheno_data.p699_i1.to_numpy()\n",
    "age = pheno_data.p21022.to_numpy()"
   ]
  },
  {
   "cell_type": "code",
   "execution_count": null,
   "metadata": {},
   "outputs": [],
   "source": [
    "# Plot length of time at current address instance 1 against instance 2\n",
    "ax = sns.jointplot(x=len_address_inst0, y=len_address_inst1, kind='scatter', space=0, color='black', alpha=0.1, s=4)\n",
    "ax.set_axis_labels(fields_len[0].title, fields_len[1].title, fontsize=16)"
   ]
  },
  {
   "cell_type": "code",
   "execution_count": null,
   "metadata": {},
   "outputs": [],
   "source": [
    "# Plot age against length of time at current address\n",
    "ax = sns.jointplot(x=age, y=len_address_inst0, kind='kde')\n",
    "ax.set_axis_labels(field_age.title, fields_len[0].title, fontsize=16)"
   ]
  }
 ],
 "metadata": {
  "kernelspec": {
   "display_name": "Python 3 (ipykernel)",
   "language": "python",
   "name": "python3"
  },
  "language_info": {
   "codemirror_mode": {
    "name": "ipython",
    "version": 3
   },
   "file_extension": ".py",
   "mimetype": "text/x-python",
   "name": "python",
   "nbconvert_exporter": "python",
   "pygments_lexer": "ipython3",
   "version": "3.9.5"
  }
 },
 "nbformat": 4,
 "nbformat_minor": 4
}
