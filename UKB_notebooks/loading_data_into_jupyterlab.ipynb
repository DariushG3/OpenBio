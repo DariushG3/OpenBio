{
 "cells": [
  {
   "cell_type": "markdown",
   "id": "0f73944c",
   "metadata": {},
   "source": [
    "# Minimal JupyterLabs Notebook Example\n",
    "\n",
    "***\n",
    "This notebook is delivered \"As-Is\". Notwithstanding anything to the contrary, DNAnexus will have no warranty, support, liability or other obligations with respect to Materials provided hereunder.\n",
    "\n",
    "[MIT License](https://github.com/dnanexus/OpenBio/blob/master/LICENSE.md) applies to this notebook.\n",
    "***\n",
    "\n",
    "This is a minimal notebook that shows how to download data into the JupyterLab VM, load it, and do something with it.\n",
    "This notebook is used for `Using JupyterLab on UKB Research Analysis Platform - Part 1` webinar."
   ]
  },
  {
   "cell_type": "markdown",
   "id": "099a60b0",
   "metadata": {},
   "source": [
    "## Jupyterlab app details (launch configuration) \n",
    "### Recommended configuration\n",
    "- runtime: < 10 min\n",
    "- cluster configuration: `single node`\n",
    "- app: `dxjupyterlab`\n",
    "- recommended instance: `mem1_ssd1_v2_x4`\n",
    "- cost: < £0.05"
   ]
  },
  {
   "cell_type": "markdown",
   "id": "3c8c2060",
   "metadata": {},
   "source": [
    "Load packages as usual using `import`."
   ]
  },
  {
   "cell_type": "code",
   "execution_count": null,
   "id": "55d0a5d1",
   "metadata": {},
   "outputs": [],
   "source": [
    "import pandas as pd"
   ]
  },
  {
   "cell_type": "markdown",
   "id": "06d68490",
   "metadata": {},
   "source": [
    "*Note: in order to run this code you should create file `results.csv` and put it into the `Data` folder. To create this file use [Table Exporter App](https://dnanexus.gitbook.io/uk-biobank-rap/working-on-the-research-analysis-platform/accessing-phenotypic-data-as-a-file#creating-a-tsv-or-csv-file-using-table-exporter) or retrieve fields using [Spark Jupyter Notebook](https://dnanexus.gitbook.io/uk-biobank-rap/getting-started/working-with-ukb-data#analyzing-tabular-data-using-spark-in-jupyterlab). For purposes of this notebook, your dataset should have the following column: `Year of birth (p34)`. `eid` column should be added automatically during data export into the file.*"
   ]
  },
  {
   "cell_type": "markdown",
   "id": "601188d0",
   "metadata": {},
   "source": [
    "## 1. Loading project data into a pandas dataframe\n",
    "### Option A. Access data file and load it in Python using `pandas.read_csv()`\n",
    "\n",
    "Using `dxfuse` filesystem by adding `/mnt/project/` to the filepath, e.g. `/mnt/project/Data/results.csv`. You can use `dxfuse` for read-only."
   ]
  },
  {
   "cell_type": "code",
   "execution_count": null,
   "id": "021ea8c0",
   "metadata": {},
   "outputs": [],
   "source": [
    "data = pd.read_csv(\"/mnt/project/Data/results.csv\")"
   ]
  },
  {
   "cell_type": "markdown",
   "id": "3cea09b6",
   "metadata": {},
   "source": [
    "### Option B. Download data to Jupyterlab storage using `dx download` and load it locally using `pandas.read_csv()`\n",
    "\n",
    "Use `%%bash` in the cell to run `dx download` command-line utility."
   ]
  },
  {
   "cell_type": "code",
   "execution_count": null,
   "id": "6dfe53ca",
   "metadata": {},
   "outputs": [],
   "source": [
    "%%bash\n",
    "dx download \"/Data/results.csv\""
   ]
  },
  {
   "cell_type": "code",
   "execution_count": null,
   "id": "73ac4a10",
   "metadata": {},
   "outputs": [],
   "source": [
    "data = pd.read_csv(\"results.csv\")"
   ]
  },
  {
   "cell_type": "markdown",
   "id": "1f05ebff",
   "metadata": {},
   "source": [
    "## 2. Perform analysis, get tables and graphs, etc.\n",
    "\n",
    "Here we want to filter and save 5 percent of the youngest participant base on `Year of birth` (`p34`) field."
   ]
  },
  {
   "cell_type": "code",
   "execution_count": null,
   "id": "10ed87ff",
   "metadata": {},
   "outputs": [],
   "source": [
    "data.describe()"
   ]
  },
  {
   "cell_type": "code",
   "execution_count": null,
   "id": "02e68050",
   "metadata": {},
   "outputs": [],
   "source": [
    "data.p34.quantile(0.95)"
   ]
  },
  {
   "cell_type": "code",
   "execution_count": null,
   "id": "e691778b",
   "metadata": {},
   "outputs": [],
   "source": [
    "data_young = data[data.p34 > data.p34.quantile(0.95)]\n",
    "data_young.describe()"
   ]
  },
  {
   "cell_type": "code",
   "execution_count": null,
   "id": "26abf803",
   "metadata": {},
   "outputs": [],
   "source": [
    "data_young.shape"
   ]
  },
  {
   "cell_type": "code",
   "execution_count": null,
   "id": "965ad214",
   "metadata": {},
   "outputs": [],
   "source": [
    "data_young.to_csv('results_95_perc.csv')"
   ]
  },
  {
   "cell_type": "markdown",
   "id": "65df2ebc",
   "metadata": {},
   "source": [
    "## 3. Upload results to project storage using `dx upload`\n",
    "\n",
    "Use `%%bash` in the cell to run `dx upload` command-line utility and specify file uploading path (`--path`)."
   ]
  },
  {
   "cell_type": "code",
   "execution_count": null,
   "id": "b4f17345",
   "metadata": {},
   "outputs": [],
   "source": [
    "%%bash\n",
    "dx upload results_95_perc.csv --path /Data/"
   ]
  }
 ],
 "metadata": {
  "kernelspec": {
   "display_name": "Python 3 (ipykernel)",
   "language": "python",
   "name": "python3"
  },
  "language_info": {
   "codemirror_mode": {
    "name": "ipython",
    "version": 3
   },
   "file_extension": ".py",
   "mimetype": "text/x-python",
   "name": "python",
   "nbconvert_exporter": "python",
   "pygments_lexer": "ipython3",
   "version": "3.9.5"
  },
  "toc": {
   "base_numbering": 1,
   "nav_menu": {},
   "number_sections": true,
   "sideBar": true,
   "skip_h1_title": false,
   "title_cell": "Table of Contents",
   "title_sidebar": "Contents",
   "toc_cell": false,
   "toc_position": {},
   "toc_section_display": true,
   "toc_window_display": false
  }
 },
 "nbformat": 4,
 "nbformat_minor": 5
}
